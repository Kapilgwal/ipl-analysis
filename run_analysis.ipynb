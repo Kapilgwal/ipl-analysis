{
 "cells": [
  {
   "cell_type": "code",
   "execution_count": 2,
   "metadata": {},
   "outputs": [],
   "source": [
    "import pandas as pd\n",
    "import numpy as np\n",
    "\n",
    "df = pd.read_csv('deliveries.csv')"
   ]
  },
  {
   "cell_type": "code",
   "execution_count": 3,
   "metadata": {},
   "outputs": [
    {
     "data": {
      "text/html": [
       "<div>\n",
       "<style scoped>\n",
       "    .dataframe tbody tr th:only-of-type {\n",
       "        vertical-align: middle;\n",
       "    }\n",
       "\n",
       "    .dataframe tbody tr th {\n",
       "        vertical-align: top;\n",
       "    }\n",
       "\n",
       "    .dataframe thead th {\n",
       "        text-align: right;\n",
       "    }\n",
       "</style>\n",
       "<table border=\"1\" class=\"dataframe\">\n",
       "  <thead>\n",
       "    <tr style=\"text-align: right;\">\n",
       "      <th></th>\n",
       "      <th>match_id</th>\n",
       "      <th>inning</th>\n",
       "      <th>batting_team</th>\n",
       "      <th>bowling_team</th>\n",
       "      <th>over</th>\n",
       "      <th>ball</th>\n",
       "      <th>batter</th>\n",
       "      <th>bowler</th>\n",
       "      <th>non_striker</th>\n",
       "      <th>batsman_runs</th>\n",
       "      <th>extra_runs</th>\n",
       "      <th>total_runs</th>\n",
       "      <th>extras_type</th>\n",
       "      <th>is_wicket</th>\n",
       "      <th>player_dismissed</th>\n",
       "      <th>dismissal_kind</th>\n",
       "      <th>fielder</th>\n",
       "    </tr>\n",
       "  </thead>\n",
       "  <tbody>\n",
       "    <tr>\n",
       "      <th>0</th>\n",
       "      <td>335982</td>\n",
       "      <td>1</td>\n",
       "      <td>Kolkata Knight Riders</td>\n",
       "      <td>Royal Challengers Bangalore</td>\n",
       "      <td>0</td>\n",
       "      <td>1</td>\n",
       "      <td>SC Ganguly</td>\n",
       "      <td>P Kumar</td>\n",
       "      <td>BB McCullum</td>\n",
       "      <td>0</td>\n",
       "      <td>1</td>\n",
       "      <td>1</td>\n",
       "      <td>legbyes</td>\n",
       "      <td>0</td>\n",
       "      <td>NaN</td>\n",
       "      <td>NaN</td>\n",
       "      <td>NaN</td>\n",
       "    </tr>\n",
       "    <tr>\n",
       "      <th>1</th>\n",
       "      <td>335982</td>\n",
       "      <td>1</td>\n",
       "      <td>Kolkata Knight Riders</td>\n",
       "      <td>Royal Challengers Bangalore</td>\n",
       "      <td>0</td>\n",
       "      <td>2</td>\n",
       "      <td>BB McCullum</td>\n",
       "      <td>P Kumar</td>\n",
       "      <td>SC Ganguly</td>\n",
       "      <td>0</td>\n",
       "      <td>0</td>\n",
       "      <td>0</td>\n",
       "      <td>NaN</td>\n",
       "      <td>0</td>\n",
       "      <td>NaN</td>\n",
       "      <td>NaN</td>\n",
       "      <td>NaN</td>\n",
       "    </tr>\n",
       "    <tr>\n",
       "      <th>2</th>\n",
       "      <td>335982</td>\n",
       "      <td>1</td>\n",
       "      <td>Kolkata Knight Riders</td>\n",
       "      <td>Royal Challengers Bangalore</td>\n",
       "      <td>0</td>\n",
       "      <td>3</td>\n",
       "      <td>BB McCullum</td>\n",
       "      <td>P Kumar</td>\n",
       "      <td>SC Ganguly</td>\n",
       "      <td>0</td>\n",
       "      <td>1</td>\n",
       "      <td>1</td>\n",
       "      <td>wides</td>\n",
       "      <td>0</td>\n",
       "      <td>NaN</td>\n",
       "      <td>NaN</td>\n",
       "      <td>NaN</td>\n",
       "    </tr>\n",
       "    <tr>\n",
       "      <th>3</th>\n",
       "      <td>335982</td>\n",
       "      <td>1</td>\n",
       "      <td>Kolkata Knight Riders</td>\n",
       "      <td>Royal Challengers Bangalore</td>\n",
       "      <td>0</td>\n",
       "      <td>4</td>\n",
       "      <td>BB McCullum</td>\n",
       "      <td>P Kumar</td>\n",
       "      <td>SC Ganguly</td>\n",
       "      <td>0</td>\n",
       "      <td>0</td>\n",
       "      <td>0</td>\n",
       "      <td>NaN</td>\n",
       "      <td>0</td>\n",
       "      <td>NaN</td>\n",
       "      <td>NaN</td>\n",
       "      <td>NaN</td>\n",
       "    </tr>\n",
       "    <tr>\n",
       "      <th>4</th>\n",
       "      <td>335982</td>\n",
       "      <td>1</td>\n",
       "      <td>Kolkata Knight Riders</td>\n",
       "      <td>Royal Challengers Bangalore</td>\n",
       "      <td>0</td>\n",
       "      <td>5</td>\n",
       "      <td>BB McCullum</td>\n",
       "      <td>P Kumar</td>\n",
       "      <td>SC Ganguly</td>\n",
       "      <td>0</td>\n",
       "      <td>0</td>\n",
       "      <td>0</td>\n",
       "      <td>NaN</td>\n",
       "      <td>0</td>\n",
       "      <td>NaN</td>\n",
       "      <td>NaN</td>\n",
       "      <td>NaN</td>\n",
       "    </tr>\n",
       "    <tr>\n",
       "      <th>...</th>\n",
       "      <td>...</td>\n",
       "      <td>...</td>\n",
       "      <td>...</td>\n",
       "      <td>...</td>\n",
       "      <td>...</td>\n",
       "      <td>...</td>\n",
       "      <td>...</td>\n",
       "      <td>...</td>\n",
       "      <td>...</td>\n",
       "      <td>...</td>\n",
       "      <td>...</td>\n",
       "      <td>...</td>\n",
       "      <td>...</td>\n",
       "      <td>...</td>\n",
       "      <td>...</td>\n",
       "      <td>...</td>\n",
       "      <td>...</td>\n",
       "    </tr>\n",
       "    <tr>\n",
       "      <th>260915</th>\n",
       "      <td>1426312</td>\n",
       "      <td>2</td>\n",
       "      <td>Kolkata Knight Riders</td>\n",
       "      <td>Sunrisers Hyderabad</td>\n",
       "      <td>9</td>\n",
       "      <td>5</td>\n",
       "      <td>SS Iyer</td>\n",
       "      <td>AK Markram</td>\n",
       "      <td>VR Iyer</td>\n",
       "      <td>1</td>\n",
       "      <td>0</td>\n",
       "      <td>1</td>\n",
       "      <td>NaN</td>\n",
       "      <td>0</td>\n",
       "      <td>NaN</td>\n",
       "      <td>NaN</td>\n",
       "      <td>NaN</td>\n",
       "    </tr>\n",
       "    <tr>\n",
       "      <th>260916</th>\n",
       "      <td>1426312</td>\n",
       "      <td>2</td>\n",
       "      <td>Kolkata Knight Riders</td>\n",
       "      <td>Sunrisers Hyderabad</td>\n",
       "      <td>9</td>\n",
       "      <td>6</td>\n",
       "      <td>VR Iyer</td>\n",
       "      <td>AK Markram</td>\n",
       "      <td>SS Iyer</td>\n",
       "      <td>1</td>\n",
       "      <td>0</td>\n",
       "      <td>1</td>\n",
       "      <td>NaN</td>\n",
       "      <td>0</td>\n",
       "      <td>NaN</td>\n",
       "      <td>NaN</td>\n",
       "      <td>NaN</td>\n",
       "    </tr>\n",
       "    <tr>\n",
       "      <th>260917</th>\n",
       "      <td>1426312</td>\n",
       "      <td>2</td>\n",
       "      <td>Kolkata Knight Riders</td>\n",
       "      <td>Sunrisers Hyderabad</td>\n",
       "      <td>10</td>\n",
       "      <td>1</td>\n",
       "      <td>VR Iyer</td>\n",
       "      <td>Shahbaz Ahmed</td>\n",
       "      <td>SS Iyer</td>\n",
       "      <td>1</td>\n",
       "      <td>0</td>\n",
       "      <td>1</td>\n",
       "      <td>NaN</td>\n",
       "      <td>0</td>\n",
       "      <td>NaN</td>\n",
       "      <td>NaN</td>\n",
       "      <td>NaN</td>\n",
       "    </tr>\n",
       "    <tr>\n",
       "      <th>260918</th>\n",
       "      <td>1426312</td>\n",
       "      <td>2</td>\n",
       "      <td>Kolkata Knight Riders</td>\n",
       "      <td>Sunrisers Hyderabad</td>\n",
       "      <td>10</td>\n",
       "      <td>2</td>\n",
       "      <td>SS Iyer</td>\n",
       "      <td>Shahbaz Ahmed</td>\n",
       "      <td>VR Iyer</td>\n",
       "      <td>1</td>\n",
       "      <td>0</td>\n",
       "      <td>1</td>\n",
       "      <td>NaN</td>\n",
       "      <td>0</td>\n",
       "      <td>NaN</td>\n",
       "      <td>NaN</td>\n",
       "      <td>NaN</td>\n",
       "    </tr>\n",
       "    <tr>\n",
       "      <th>260919</th>\n",
       "      <td>1426312</td>\n",
       "      <td>2</td>\n",
       "      <td>Kolkata Knight Riders</td>\n",
       "      <td>Sunrisers Hyderabad</td>\n",
       "      <td>10</td>\n",
       "      <td>3</td>\n",
       "      <td>VR Iyer</td>\n",
       "      <td>Shahbaz Ahmed</td>\n",
       "      <td>SS Iyer</td>\n",
       "      <td>1</td>\n",
       "      <td>0</td>\n",
       "      <td>1</td>\n",
       "      <td>NaN</td>\n",
       "      <td>0</td>\n",
       "      <td>NaN</td>\n",
       "      <td>NaN</td>\n",
       "      <td>NaN</td>\n",
       "    </tr>\n",
       "  </tbody>\n",
       "</table>\n",
       "<p>260920 rows × 17 columns</p>\n",
       "</div>"
      ],
      "text/plain": [
       "        match_id  inning           batting_team                 bowling_team  \\\n",
       "0         335982       1  Kolkata Knight Riders  Royal Challengers Bangalore   \n",
       "1         335982       1  Kolkata Knight Riders  Royal Challengers Bangalore   \n",
       "2         335982       1  Kolkata Knight Riders  Royal Challengers Bangalore   \n",
       "3         335982       1  Kolkata Knight Riders  Royal Challengers Bangalore   \n",
       "4         335982       1  Kolkata Knight Riders  Royal Challengers Bangalore   \n",
       "...          ...     ...                    ...                          ...   \n",
       "260915   1426312       2  Kolkata Knight Riders          Sunrisers Hyderabad   \n",
       "260916   1426312       2  Kolkata Knight Riders          Sunrisers Hyderabad   \n",
       "260917   1426312       2  Kolkata Knight Riders          Sunrisers Hyderabad   \n",
       "260918   1426312       2  Kolkata Knight Riders          Sunrisers Hyderabad   \n",
       "260919   1426312       2  Kolkata Knight Riders          Sunrisers Hyderabad   \n",
       "\n",
       "        over  ball       batter         bowler  non_striker  batsman_runs  \\\n",
       "0          0     1   SC Ganguly        P Kumar  BB McCullum             0   \n",
       "1          0     2  BB McCullum        P Kumar   SC Ganguly             0   \n",
       "2          0     3  BB McCullum        P Kumar   SC Ganguly             0   \n",
       "3          0     4  BB McCullum        P Kumar   SC Ganguly             0   \n",
       "4          0     5  BB McCullum        P Kumar   SC Ganguly             0   \n",
       "...      ...   ...          ...            ...          ...           ...   \n",
       "260915     9     5      SS Iyer     AK Markram      VR Iyer             1   \n",
       "260916     9     6      VR Iyer     AK Markram      SS Iyer             1   \n",
       "260917    10     1      VR Iyer  Shahbaz Ahmed      SS Iyer             1   \n",
       "260918    10     2      SS Iyer  Shahbaz Ahmed      VR Iyer             1   \n",
       "260919    10     3      VR Iyer  Shahbaz Ahmed      SS Iyer             1   \n",
       "\n",
       "        extra_runs  total_runs extras_type  is_wicket player_dismissed  \\\n",
       "0                1           1     legbyes          0              NaN   \n",
       "1                0           0         NaN          0              NaN   \n",
       "2                1           1       wides          0              NaN   \n",
       "3                0           0         NaN          0              NaN   \n",
       "4                0           0         NaN          0              NaN   \n",
       "...            ...         ...         ...        ...              ...   \n",
       "260915           0           1         NaN          0              NaN   \n",
       "260916           0           1         NaN          0              NaN   \n",
       "260917           0           1         NaN          0              NaN   \n",
       "260918           0           1         NaN          0              NaN   \n",
       "260919           0           1         NaN          0              NaN   \n",
       "\n",
       "       dismissal_kind fielder  \n",
       "0                 NaN     NaN  \n",
       "1                 NaN     NaN  \n",
       "2                 NaN     NaN  \n",
       "3                 NaN     NaN  \n",
       "4                 NaN     NaN  \n",
       "...               ...     ...  \n",
       "260915            NaN     NaN  \n",
       "260916            NaN     NaN  \n",
       "260917            NaN     NaN  \n",
       "260918            NaN     NaN  \n",
       "260919            NaN     NaN  \n",
       "\n",
       "[260920 rows x 17 columns]"
      ]
     },
     "execution_count": 3,
     "metadata": {},
     "output_type": "execute_result"
    }
   ],
   "source": [
    "df"
   ]
  },
  {
   "cell_type": "code",
   "execution_count": 5,
   "metadata": {},
   "outputs": [
    {
     "data": {
      "text/plain": [
       "batting_team\n",
       "Mumbai Indians                 31437\n",
       "Kolkata Knight Riders          29514\n",
       "Chennai Super Kings            28651\n",
       "Royal Challengers Bangalore    28205\n",
       "Rajasthan Royals               26242\n",
       "Kings XI Punjab                22646\n",
       "Sunrisers Hyderabad            21843\n",
       "Delhi Daredevils               18786\n",
       "Delhi Capitals                 10946\n",
       "Deccan Chargers                 9034\n",
       "Punjab Kings                    6833\n",
       "Gujarat Titans                  5494\n",
       "Pune Warriors                   5443\n",
       "Lucknow Super Giants            5400\n",
       "Gujarat Lions                   3566\n",
       "Rising Pune Supergiant          1900\n",
       "Royal Challengers Bengaluru     1818\n",
       "Kochi Tuskers Kerala            1582\n",
       "Rising Pune Supergiants         1580\n",
       "Name: count, dtype: int64"
      ]
     },
     "execution_count": 5,
     "metadata": {},
     "output_type": "execute_result"
    }
   ],
   "source": [
    "df['batting_team'].value_counts()"
   ]
  },
  {
   "cell_type": "code",
   "execution_count": 6,
   "metadata": {},
   "outputs": [
    {
     "data": {
      "text/plain": [
       "bowling_team\n",
       "Mumbai Indians                 31505\n",
       "Kolkata Knight Riders          29663\n",
       "Chennai Super Kings            28576\n",
       "Royal Challengers Bangalore    28358\n",
       "Rajasthan Royals               26432\n",
       "Kings XI Punjab                22483\n",
       "Sunrisers Hyderabad            21717\n",
       "Delhi Daredevils               18725\n",
       "Delhi Capitals                 11216\n",
       "Deccan Chargers                 9039\n",
       "Punjab Kings                    6719\n",
       "Pune Warriors                   5457\n",
       "Gujarat Titans                  5301\n",
       "Lucknow Super Giants            5226\n",
       "Gujarat Lions                   3545\n",
       "Rising Pune Supergiant          1928\n",
       "Royal Challengers Bengaluru     1801\n",
       "Rising Pune Supergiants         1615\n",
       "Kochi Tuskers Kerala            1614\n",
       "Name: count, dtype: int64"
      ]
     },
     "execution_count": 6,
     "metadata": {},
     "output_type": "execute_result"
    }
   ],
   "source": [
    "df['bowling_team'].value_counts()"
   ]
  },
  {
   "cell_type": "code",
   "execution_count": 7,
   "metadata": {},
   "outputs": [],
   "source": [
    "def team_renaming(text):\n",
    "    \n",
    "    if text == 'Delhi Daredevils':\n",
    "        text = 'Delhi Capitals'\n",
    "        \n",
    "    if text == 'Rising Pune Supergiants':\n",
    "        text = 'Rising Pune Supergiant'\n",
    "        \n",
    "    if text == 'Kings XI Punjab':\n",
    "        text = 'Punjab Kings'     \n",
    "        \n",
    "    if text == 'Royal Challengers Bangalore':\n",
    "        text = 'Royal Challengers Bengaluru'     \n",
    "    \n",
    "    return text       "
   ]
  },
  {
   "cell_type": "code",
   "execution_count": 10,
   "metadata": {},
   "outputs": [],
   "source": [
    "df['batting_team'] = df['batting_team'].apply(team_renaming)\n",
    "df['bowling_team'] = df['bowling_team'].apply(team_renaming)"
   ]
  },
  {
   "cell_type": "code",
   "execution_count": 11,
   "metadata": {},
   "outputs": [
    {
     "data": {
      "text/plain": [
       "batting_team\n",
       "Mumbai Indians                 31437\n",
       "Royal Challengers Bengaluru    30023\n",
       "Delhi Capitals                 29732\n",
       "Kolkata Knight Riders          29514\n",
       "Punjab Kings                   29479\n",
       "Chennai Super Kings            28651\n",
       "Rajasthan Royals               26242\n",
       "Sunrisers Hyderabad            21843\n",
       "Deccan Chargers                 9034\n",
       "Gujarat Titans                  5494\n",
       "Pune Warriors                   5443\n",
       "Lucknow Super Giants            5400\n",
       "Gujarat Lions                   3566\n",
       "Rising Pune Supergiant          3480\n",
       "Kochi Tuskers Kerala            1582\n",
       "Name: count, dtype: int64"
      ]
     },
     "execution_count": 11,
     "metadata": {},
     "output_type": "execute_result"
    }
   ],
   "source": [
    "df['batting_team'].value_counts()"
   ]
  },
  {
   "cell_type": "code",
   "execution_count": 12,
   "metadata": {},
   "outputs": [
    {
     "data": {
      "text/plain": [
       "bowling_team\n",
       "Mumbai Indians                 31505\n",
       "Royal Challengers Bengaluru    30159\n",
       "Delhi Capitals                 29941\n",
       "Kolkata Knight Riders          29663\n",
       "Punjab Kings                   29202\n",
       "Chennai Super Kings            28576\n",
       "Rajasthan Royals               26432\n",
       "Sunrisers Hyderabad            21717\n",
       "Deccan Chargers                 9039\n",
       "Pune Warriors                   5457\n",
       "Gujarat Titans                  5301\n",
       "Lucknow Super Giants            5226\n",
       "Gujarat Lions                   3545\n",
       "Rising Pune Supergiant          3543\n",
       "Kochi Tuskers Kerala            1614\n",
       "Name: count, dtype: int64"
      ]
     },
     "execution_count": 12,
     "metadata": {},
     "output_type": "execute_result"
    }
   ],
   "source": [
    "df['bowling_team'].value_counts()"
   ]
  },
  {
   "cell_type": "code",
   "execution_count": 13,
   "metadata": {},
   "outputs": [
    {
     "data": {
      "text/plain": [
       "total_runs\n",
       "1    108440\n",
       "0     90438\n",
       "4     30221\n",
       "2     17323\n",
       "6     12964\n",
       "3       922\n",
       "5       524\n",
       "7        88\n",
       "Name: count, dtype: int64"
      ]
     },
     "execution_count": 13,
     "metadata": {},
     "output_type": "execute_result"
    }
   ],
   "source": [
    "df['total_runs'].value_counts()"
   ]
  },
  {
   "cell_type": "code",
   "execution_count": 14,
   "metadata": {},
   "outputs": [
    {
     "data": {
      "text/plain": [
       "np.int64(347756)"
      ]
     },
     "execution_count": 14,
     "metadata": {},
     "output_type": "execute_result"
    }
   ],
   "source": [
    "df['total_runs'].sum()"
   ]
  },
  {
   "cell_type": "code",
   "execution_count": 37,
   "metadata": {},
   "outputs": [],
   "source": [
    "def run_by_batting_team(text):\n",
    "    runss = df[df['batting_team'] == text]\n",
    "    runs = df[df['bowling_team'] == text]\n",
    "    print(text ,\"  -> runs scored\", runss['total_runs'].sum(), \" runs given \", runs['total_runs'].sum())\n",
    "    "
   ]
  },
  {
   "cell_type": "code",
   "execution_count": 38,
   "metadata": {},
   "outputs": [
    {
     "name": "stdout",
     "output_type": "stream",
     "text": [
      "Kolkata Knight Riders   -> runs scored 39331  runs given  39086\n",
      "Royal Challengers Bengaluru   -> runs scored 40622  runs given  40801\n",
      "Chennai Super Kings   -> runs scored 38629  runs given  37207\n",
      "Punjab Kings   -> runs scored 39600  runs given  40006\n",
      "Rajasthan Royals   -> runs scored 34747  runs given  35142\n",
      "Delhi Capitals   -> runs scored 39196  runs given  40125\n",
      "Mumbai Indians   -> runs scored 42176  runs given  41296\n",
      "Deccan Chargers   -> runs scored 11463  runs given  11618\n",
      "Kochi Tuskers Kerala   -> runs scored 1901  runs given  1986\n",
      "Pune Warriors   -> runs scored 6358  runs given  6857\n",
      "Sunrisers Hyderabad   -> runs scored 29071  runs given  29103\n",
      "Rising Pune Supergiant   -> runs scored 4533  runs given  4549\n",
      "Gujarat Lions   -> runs scored 4862  runs given  5090\n",
      "Lucknow Super Giants   -> runs scored 7510  runs given  7415\n",
      "Gujarat Titans   -> runs scored 7757  runs given  7475\n"
     ]
    }
   ],
   "source": [
    "teams = df['batting_team'].unique()\n",
    "for i in range(len(teams)):\n",
    "    \n",
    "    run_by_batting_team(teams[i])\n"
   ]
  },
  {
   "cell_type": "code",
   "execution_count": 39,
   "metadata": {},
   "outputs": [
    {
     "data": {
      "text/plain": [
       "extras_type\n",
       "wides      8380\n",
       "legbyes    4001\n",
       "noballs    1069\n",
       "byes        673\n",
       "penalty       2\n",
       "Name: count, dtype: int64"
      ]
     },
     "execution_count": 39,
     "metadata": {},
     "output_type": "execute_result"
    }
   ],
   "source": [
    "df['extras_type'].value_counts()"
   ]
  },
  {
   "cell_type": "code",
   "execution_count": 40,
   "metadata": {},
   "outputs": [
    {
     "data": {
      "text/plain": [
       "np.int64(17692)"
      ]
     },
     "execution_count": 40,
     "metadata": {},
     "output_type": "execute_result"
    }
   ],
   "source": [
    "df['extra_runs'].sum()"
   ]
  },
  {
   "cell_type": "code",
   "execution_count": 41,
   "metadata": {},
   "outputs": [],
   "source": [
    "def run_by_batsman(text):\n",
    "    runs = df[df['batting_team'] == text]\n",
    "    print(runs['total_runs'].sum())"
   ]
  },
  {
   "cell_type": "code",
   "execution_count": 46,
   "metadata": {},
   "outputs": [
    {
     "data": {
      "text/plain": [
       "array(['SC Ganguly', 'BB McCullum', 'RT Ponting', 'DJ Hussey',\n",
       "       'Mohammad Hafeez', 'R Dravid', 'W Jaffer', 'V Kohli', 'JH Kallis',\n",
       "       'CL White', 'MV Boucher', 'B Akhil', 'AA Noffke', 'P Kumar',\n",
       "       'Z Khan', 'SB Joshi', 'PA Patel', 'ML Hayden', 'MEK Hussey',\n",
       "       'MS Dhoni', 'SK Raina', 'JDP Oram', 'S Badrinath', 'K Goel',\n",
       "       'JR Hopes', 'KC Sangakkara', 'Yuvraj Singh', 'SM Katich',\n",
       "       'IK Pathan', 'T Kohli', 'YK Pathan', 'SR Watson', 'M Kaif',\n",
       "       'DS Lehmann', 'RA Jadeja', 'M Rawat', 'D Salunkhe', 'SK Warne',\n",
       "       'SK Trivedi', 'G Gambhir', 'V Sehwag', 'S Dhawan', 'L Ronchi',\n",
       "       'ST Jayasuriya', 'DJ Thornely', 'RV Uthappa', 'PR Shah',\n",
       "       'AM Nayar', 'SM Pollock', 'Harbhajan Singh', 'S Chanderpaul',\n",
       "       'LRPL Taylor', 'AC Gilchrist', 'Y Venugopal Rao', 'VVS Laxman',\n",
       "       'A Symonds', 'RG Sharma', 'SB Styris', 'AS Yadav', 'SB Bangar',\n",
       "       'WPUJC Vaas', 'RP Singh', 'WP Saha', 'LR Shukla',\n",
       "       'DPMD Jayawardene', 'S Sohal', 'B Lee', 'PP Chawla', 'WA Mota',\n",
       "       'Kamran Akmal', 'Shahid Afridi', 'DJ Bravo', 'MA Khote', 'A Nehra',\n",
       "       'GC Smith', 'Pankaj Singh', 'RR Sarwan', 'S Sreesanth',\n",
       "       'VRV Singh', 'SS Tiwary', 'DS Kulkarni', 'R Vinay Kumar',\n",
       "       'AB Agarkar', 'M Kartik', 'I Sharma', 'AM Rahane', 'Shoaib Malik',\n",
       "       'MK Tiwary', 'KD Karthik', 'R Bhatia', 'MF Maharoof', 'VY Mahesh',\n",
       "       'TM Srivastava', 'B Chipli', 'DW Steyn', 'DB Das', 'MK Pandey',\n",
       "       'HH Gibbs', 'DNT Zoysa', 'D Kalyankrishna', 'SE Marsh',\n",
       "       'SA Asnodkar', 'Sohail Tanvir', 'Salman Butt', 'BJ Hodge',\n",
       "       'Umar Gul', 'AB Dinda', 'SP Fleming', 'S Vidyut', 'JA Morkel',\n",
       "       'AB de Villiers', 'LPC Silva', 'DB Ravi Teja', 'Misbah-ul-Haq',\n",
       "       'YV Takawale', 'RR Raje', 'PJ Sangwan', 'Mohammad Asif',\n",
       "       'GD McGrath', 'Joginder Sharma', 'MS Gony', 'M Muralitharan',\n",
       "       'M Ntini', 'DT Patil', 'A Kumble', 'S Anirudha', 'MM Patel',\n",
       "       'CK Kapugedera', 'A Chopra', 'T Taibu', 'J Arunkumar', 'PP Ojha',\n",
       "       'SP Goswami', 'SR Tendulkar', 'U Kaul', 'TM Dilshan', 'A Mishra',\n",
       "       'AD Mascarenhas', 'NK Patel', 'LA Pomersbach', 'Iqbal Abdulla',\n",
       "       'Younis Khan', 'PM Sarvesh Kumar', 'DP Vijaykumar',\n",
       "       'Shoaib Akhtar', 'Abdur Razzak', 'H Das', 'DR Smith', 'SD Chitnis',\n",
       "       'CRD Fernando', 'VS Yeligati', 'L Balaji', 'A Mukund', 'RR Powar',\n",
       "       'JP Duminy', 'A Flintoff', 'T Thushara', 'JD Ryder',\n",
       "       'KP Pietersen', 'T Henderson', 'Kamran Khan', 'RS Bopara',\n",
       "       'CH Gayle', 'MC Henriques', 'R Bishnoi', 'FH Edwards', 'KV Sharma',\n",
       "       'PC Valthaty', 'RJ Quiney', 'AS Raut', 'Yashpal Singh', 'M Manhas',\n",
       "       'AA Bilakhia', 'AN Ghosh', 'BAW Mendis', 'DL Vettori',\n",
       "       'MN van Wyk', 'RE van der Merwe', 'TL Suman', 'Shoaib Ahmed',\n",
       "       'GR Napier', 'KP Appanna', 'LA Carseldine', 'NV Ojha',\n",
       "       'SM Harwood', 'M Vijay', 'SB Jakati', 'DA Warner', 'RJ Harris',\n",
       "       'D du Preez', 'M Morkel', 'AD Mathews', 'J Botha', 'C Nanda',\n",
       "       'SL Malinga', 'Mashrafe Mortaza', 'A Singh', 'GJ Bailey',\n",
       "       'AB McDonald', 'Y Nagar', 'SS Shaikh', 'R Ashwin',\n",
       "       'Mohammad Ashraful', 'CA Pujara', 'OA Shah', 'Anirudh Singh',\n",
       "       'Jaskaran Singh', 'AP Tare', 'AT Rayudu', 'R Sathish', 'R McLaren',\n",
       "       'AA Jhunjhunwala', 'P Dogra', 'A Uniyal', 'MS Bisla', 'YA Abdulla',\n",
       "       'EJG Morgan', 'JM Kemp', 'S Tyagi', 'RS Gavaskar', 'SE Bond',\n",
       "       'KA Pollard', 'S Ladda', 'DP Nannes', 'MJ Lumb', 'DR Martyn',\n",
       "       'S Narwal', 'AB Barath', 'Bipul Sharma', 'FY Fazal', 'AC Voges',\n",
       "       'MD Mishra', 'UT Yadav', 'J Theron', 'SJ Srivastava', 'R Sharma',\n",
       "       'Mandeep Singh', 'KM Jadhav', 'SW Tait', 'KB Arun Karthik',\n",
       "       'KAJ Roach', 'PD Collingwood', 'CK Langeveldt', 'VS Malik',\n",
       "       'A Mithun', 'AP Dole', 'AN Ahmed', 'RS Sodhi', 'DE Bollinger',\n",
       "       'S Sriram', 'B Sumanth', 'C Madan', 'AG Paunikar', 'MR Marsh',\n",
       "       'AJ Finch', 'STR Binny', 'Harmeet Singh', 'IR Jaggi',\n",
       "       'DT Christian', 'RV Gomez', 'MA Agarwal', 'AUK Pathan',\n",
       "       'UBT Chand', 'DJ Jacobs', 'Sunny Singh', 'NJ Rimmington',\n",
       "       'AL Menaria', 'WD Parnell', 'JJ van der Wath', 'R Ninan',\n",
       "       'S Aravind', 'MS Wade', 'TD Paine', 'SB Wagh', 'AC Thomas',\n",
       "       'JEC Franklin', 'Shakib Al Hasan', 'DH Yagnik', 'S Randiv',\n",
       "       'BJ Haddin', 'NLTC Perera', 'NL McCullum', 'JE Taylor',\n",
       "       'J Syed Mohammad', 'RN ten Doeschate', 'TR Birt', 'AG Murtaza',\n",
       "       'Harpreet Singh', 'M Klinger', 'AC Blizzard', 'I Malhotra',\n",
       "       'L Ablish', 'CA Ingram', 'S Nadeem', 'P Parameswaran',\n",
       "       'CJ Ferguson', 'VR Aaron', 'AA Chavan', 'ND Doshi', 'B Kumar',\n",
       "       'Y Gnaneswara Rao', 'S Rana', 'BA Bhatt', 'F du Plessis',\n",
       "       'RE Levi', 'GJ Maxwell', 'SPD Smith', 'MN Samuels', 'SA Yadav',\n",
       "       'KK Cooper', 'JP Faulkner', 'HV Patel', 'DAJ Bracewell',\n",
       "       'DJ Harris', 'Ankit Sharma', 'SP Narine', 'GB Hogg', 'RR Bhatkal',\n",
       "       'CJ McKay', 'N Saini', 'DA Miller', 'Azhar Mahmood', 'P Negi',\n",
       "       'RJ Peterson', 'KMDN Kulasekara', 'A Ashish Reddy',\n",
       "       'V Pratap Singh', 'BB Samantray', 'MJ Clarke', 'Gurkeerat Singh',\n",
       "       'AP Majumdar', 'PA Reddy', 'K Upadhyay', 'P Awana', 'AD Russell',\n",
       "       'A Chandila', 'CA Lynn', 'Sunny Gupta', 'MC Juneja', 'KK Nair',\n",
       "       'GH Vihari', 'MDKJ Perera', 'R Shukla', 'B Laughlin', 'AS Rajpoot',\n",
       "       'M Vohra', 'JD Unadkat', 'Mohammed Shami', 'BMAJ Mendis',\n",
       "       'R Rampaul', 'CH Morris', 'SV Samson', 'SMSM Senanayake',\n",
       "       'BJ Rohrer', 'KL Rahul', 'Q de Kock', 'R Dhawan', 'MG Johnson',\n",
       "       'LJ Wright', 'IC Pandey', 'CM Gautam', 'X Thalaivan Sargunam',\n",
       "       'DJG Sammy', 'KW Richardson', 'MM Sharma', 'UA Birla',\n",
       "       'Parvez Rasool', 'Sandeep Sharma', 'S Kaul', 'Sachin Baby',\n",
       "       'PV Tambe', 'NM Coulter-Nile', 'CJ Anderson', 'NJ Maddinson',\n",
       "       'AR Patel', 'JJ Bumrah', 'JDS Neesham', 'TG Southee', 'MA Starc',\n",
       "       'BR Dunk', 'RR Rossouw', 'Shivam Sharma', 'YS Chahal',\n",
       "       'LMP Simmons', 'VH Zol', 'BCJ Cutting', 'Imran Tahir',\n",
       "       'BE Hendricks', 'S Gopal', 'M de Lange', 'R Tewatia', 'JO Holder',\n",
       "       'Karanveer Singh', 'SS Iyer', 'DJ Hooda', 'Anureet Singh',\n",
       "       'KS Williamson', 'SA Abbott', 'J Suchith', 'RG More', 'HH Pandya',\n",
       "       'D Wiese', 'SN Khan', 'MJ McClenaghan', 'DJ Muthuswami',\n",
       "       'PJ Cummins', 'SN Thakur', 'JC Buttler', 'CR Brathwaite',\n",
       "       'MP Stoinis', 'Ishan Kishan', 'C Munro', 'P Sahu', 'KH Pandya',\n",
       "       'AD Nath', 'MJ Guptill', 'KJ Abbott', 'TM Head', 'M Ashwin',\n",
       "       'NS Naik', 'RR Pant', 'SW Billings', 'KC Cariappa',\n",
       "       'PSP Handscomb', 'Swapnil Singh', 'J Yadav', 'UT Khawaja',\n",
       "       'HM Amla', 'F Behardien', 'BB Sran', 'A Zampa', 'N Rana',\n",
       "       'S Kaushik', 'ER Dwivedi', 'CJ Jordan', 'TS Mills', 'A Choudhary',\n",
       "       'BA Stokes', 'JJ Roy', 'Vishnu Vinod', 'Basil Thampi', 'CR Woakes',\n",
       "       'RA Tripathi', 'DL Chahar', 'V Shankar', 'Rashid Khan',\n",
       "       'RD Chahar', 'LH Ferguson', 'C de Grandhomme', 'AF Milne',\n",
       "       'S Badree', 'Mohammad Nabi', 'AJ Tye', 'K Rabada', 'Kuldeep Yadav',\n",
       "       'Washington Sundar', 'DM Bravo', 'AR Bawne', 'SP Jackson',\n",
       "       'Ankit Soni', 'TA Boult', 'E Lewis', 'MA Wood', 'RK Singh',\n",
       "       'DJM Short', 'K Gowtham', 'TK Curran', 'M Markande', 'B Stanlake',\n",
       "       'Mujeeb Ur Rahman', 'A Dananjaya', 'Shubman Gill', 'Shivam Mavi',\n",
       "       'Mohammed Siraj', 'H Klaasen', 'RK Bhui', 'JC Archer', 'PP Shaw',\n",
       "       'LE Plunkett', 'Mustafizur Rahman', 'AD Hales', 'MK Lomror',\n",
       "       'DR Shorey', 'MM Ali', 'M Prasidh Krishna', 'P Chopra',\n",
       "       'JPR Scantlebury-Searles', 'Abhishek Sharma', 'IS Sodhi',\n",
       "       'SO Hetmyer', 'S Dube', 'Navdeep Saini', 'JM Bairstow', 'KMA Paul',\n",
       "       'Rasikh Salam', 'N Pooran', 'P Ray Barman', 'SM Curran',\n",
       "       'GC Viljoen', 'Avesh Khan', 'S Lamichhane', 'HF Gurney', 'SD Lad',\n",
       "       'AS Joseph', 'R Parag', 'MJ Santner', 'JL Denly', 'LS Livingstone',\n",
       "       'KK Ahmed', 'AJ Turner', 'Harpreet Brar', 'SE Rutherford',\n",
       "       'Y Prithvi Raj', 'P Simran Singh', 'JL Pattinson', 'A Nortje',\n",
       "       'T Banton', 'D Padikkal', 'YBK Jaiswal', 'RD Gaikwad',\n",
       "       'TU Deshpande', 'Abdul Samad', 'PK Garg', 'JR Philippe',\n",
       "       'Kartik Tyagi', 'KL Nagarkoti', 'CV Varun', 'I Udana',\n",
       "       'Ravi Bishnoi', 'Shahbaz Ahmed', 'AT Carey', 'N Jagadeesan',\n",
       "       'T Natarajan', 'P Dubey', 'SS Cottrell', 'Arshdeep Singh',\n",
       "       'DR Sams', 'M Jansen', 'RM Patidar', 'KA Jamieson',\n",
       "       'M Shahrukh Khan', 'JA Richardson', 'Lalit Yadav', 'Virat Singh',\n",
       "       'FA Allen', 'C Sakariya', 'DJ Malan', 'KS Bharat', 'PWH de Silva',\n",
       "       'VR Iyer', 'GD Phillips', 'GHS Garton', 'AK Markram', 'K Yadav',\n",
       "       'T Shamsi', 'NT Ellis', 'RV Patel', 'TL Seifert',\n",
       "       'Anmolpreet Singh', 'Anuj Rawat', 'TH David', 'DP Conway',\n",
       "       'Tilak Varma', 'R Powell', 'PBB Rajapaksa', 'RA Bawa', 'OF Smith',\n",
       "       'A Badoni', 'PVD Chameera', 'A Manohar', 'R Shepherd', 'DJ Willey',\n",
       "       'D Pretorius', 'JM Sharma', 'VG Arora', 'Mukesh Choudhary',\n",
       "       'Umran Malik', 'D Brevis', 'B Sai Sudharsan', 'Ramandeep Singh',\n",
       "       'HE van der Dussen', 'SS Prabhudessai', 'Akash Deep',\n",
       "       'JR Hazlewood', 'KR Sen', 'Aman Hakim Khan', 'HR Shokeen',\n",
       "       'Yash Dayal', 'DJ Mitchell', 'Shashank Singh', 'B Indrajith',\n",
       "       'Harshit Rana', 'Mohsin Khan', 'Simarjeet Singh', 'M Theekshana',\n",
       "       'AS Roy', 'Fazalhaq Farooqi', 'K Kartikeya', 'RP Meredith',\n",
       "       'KS Sharma', 'T Stubbs', 'R Sanjay Yadav', 'A Tomar', 'PN Mankad',\n",
       "       'OC McCoy', 'Sikandar Raza', 'Rahmanullah Gurbaz', 'KR Mayers',\n",
       "       'Mukesh Kumar', 'HC Brook', 'AU Rashid', 'C Green', 'N Wadhera',\n",
       "       'Arshad Khan', 'Abishek Porel', 'Dhruv Jurel', 'MG Bracewell',\n",
       "       'MW Short', 'Mohit Rathee', 'YV Dhull', 'Yudhvir Singh',\n",
       "       'Atharva Taide', 'Liton Das', 'PD Salt', 'Vijaykumar Vyshak',\n",
       "       'Abdul Basith', 'Arjun Tendulkar', 'JP Behrendorff', 'AJ Hosein',\n",
       "       'Naveen-ul-Haq', 'Noor Ahmad', 'JE Root', 'KM Asif', 'MD Shanaka',\n",
       "       'Sanvir Singh', 'Vivrant Sharma', 'DG Nalkande', 'R Ravindra',\n",
       "       'SD Hope', 'Sumit Kumar', 'Azmatullah Omarzai', 'Naman Dhir',\n",
       "       'G Coetzee', 'SZ Mulani', 'Sameer Rizvi', 'SH Johnson',\n",
       "       'Akash Madhwal', 'SB Dubey', 'Mayank Dagar', 'RJW Topley',\n",
       "       'A Raghuvanshi', 'Ashutosh Sharma', 'Nithish Kumar Reddy',\n",
       "       'Saurav Chauhan', 'Kumar Kushagra', 'BR Sharath', 'WG Jacks',\n",
       "       'J Fraser-McGurk', 'Tanush Kotian', 'KA Maharaj',\n",
       "       'Arshad Khan (2)', 'R Sai Kishore', 'L Wood', 'LB Williams',\n",
       "       'AA Kulkarni', 'MJ Suthar', 'RJ Gleeson', 'Gulbadin Naib',\n",
       "       'D Ferreira', 'A Kamboj', 'T Kohler-Cadmore', 'Shivam Singh',\n",
       "       'V Viyaskanth'], dtype=object)"
      ]
     },
     "execution_count": 46,
     "metadata": {},
     "output_type": "execute_result"
    }
   ],
   "source": [
    "df['batter'].unique()"
   ]
  },
  {
   "cell_type": "code",
   "execution_count": 76,
   "metadata": {},
   "outputs": [
    {
     "data": {
      "text/plain": [
       "[array(['P Kumar', 'Z Khan', 'AA Noffke', 'JH Kallis', 'SB Joshi',\n",
       "        'CL White', 'AB Dinda', 'I Sharma', 'AB Agarkar', 'SC Ganguly',\n",
       "        'LR Shukla', 'B Lee', 'S Sreesanth', 'JR Hopes', 'IK Pathan',\n",
       "        'K Goel', 'PP Chawla', 'WA Mota', 'JDP Oram', 'MS Gony',\n",
       "        'M Muralitharan', 'P Amarnath', 'Joginder Sharma', 'GD McGrath',\n",
       "        'B Geeves', 'MF Maharoof', 'R Bhatia', 'DL Vettori', 'MM Patel',\n",
       "        'SR Watson', 'SK Trivedi', 'SK Warne', 'YK Pathan', 'D Salunkhe',\n",
       "        'R Vinay Kumar', 'B Akhil', 'A Nehra', 'SM Pollock', 'DS Kulkarni',\n",
       "        'ST Jayasuriya', 'Harbhajan Singh', 'AM Nayar', 'M Kartik',\n",
       "        'Mohammad Hafeez', 'DJ Hussey', 'WPUJC Vaas', 'RP Singh',\n",
       "        'SB Styris', 'SB Bangar', 'A Symonds', 'PP Ojha', 'Pankaj Singh',\n",
       "        'Mohammad Asif', 'VY Mahesh', 'Shahid Afridi', 'DJ Bravo',\n",
       "        'VS Yeligati', 'MA Khote', 'D Kalyankrishna', 'VRV Singh',\n",
       "        'Sohail Tanvir', 'A Kumble', 'DNT Zoysa', 'SD Chitnis',\n",
       "        'Yuvraj Singh', 'Shoaib Malik', 'DW Steyn', 'JA Morkel',\n",
       "        'CRD Fernando', 'V Kohli', 'V Sehwag', 'Gagandeep Singh',\n",
       "        'Y Venugopal Rao', 'Umar Gul', 'PJ Sangwan', 'M Ntini',\n",
       "        'DP Vijaykumar', 'DB Ravi Teja', 'LPC Silva', 'DJ Thornely',\n",
       "        'RR Raje', 'SK Raina', 'S Vidyut', 'L Balaji', 'CK Kapugedera',\n",
       "        'DR Smith', 'AD Mascarenhas', 'A Mishra', 'Shoaib Akhtar',\n",
       "        'Iqbal Abdulla', 'RR Powar', 'PM Sarvesh Kumar', 'Abdur Razzak',\n",
       "        'RA Jadeja', 'TM Dilshan', 'RG Sharma', 'A Nel', 'BAW Mendis',\n",
       "        'T Thushara', 'A Flintoff', 'SL Malinga', 'Kamran Khan',\n",
       "        'T Henderson', 'JD Ryder', 'DP Nannes', 'AM Salvi', 'YA Abdulla',\n",
       "        'VS Malik', 'FH Edwards', 'Harmeet Singh', 'CH Gayle',\n",
       "        'MC Henriques', 'KP Pietersen', 'LRPL Taylor', 'RS Bopara',\n",
       "        'MK Tiwary', 'Anureet Singh', 'RR Bose', 'KP Appanna',\n",
       "        'Shoaib Ahmed', 'BJ Hodge', 'SR Tendulkar', 'RE van der Merwe',\n",
       "        'JP Duminy', 'S Tyagi', 'GR Napier', 'SM Harwood', 'AS Raut',\n",
       "        'SB Jakati', 'D du Preez', 'RJ Harris', 'TL Suman', 'A Singh',\n",
       "        'M Morkel', 'LA Carseldine', 'A Mithun', 'C Nanda', 'SS Sarkar',\n",
       "        'AD Mathews', 'AM Rahane', 'J Botha', 'Mashrafe Mortaza',\n",
       "        'AB McDonald', 'Y Nagar', 'CK Langeveldt', 'R Ashwin', 'RA Shaikh',\n",
       "        'Jaskaran Singh', 'SW Tait', 'A Uniyal', 'AA Jhunjhunwala',\n",
       "        'R McLaren', 'AG Murtaza', 'R Sathish', 'RS Gavaskar', 'JM Kemp',\n",
       "        'S Ladda', 'Bipul Sharma', 'SE Bond', 'KA Pollard', 'S Narwal',\n",
       "        'UT Yadav', 'SJ Srivastava', 'AC Voges', 'R Sharma', 'J Theron',\n",
       "        'NLTC Perera', 'KAJ Roach', 'PD Collingwood', 'C Ganapathy',\n",
       "        'MB Parmar', 'SB Wagh', 'DE Bollinger', 'JD Unadkat', 'AP Dole',\n",
       "        'AN Ahmed', 'FY Fazal', 'MR Marsh', 'L Ablish', 'S Sriram',\n",
       "        'AJ Finch', 'STR Binny', 'ND Doshi', 'TG Southee', 'S Randiv',\n",
       "        'AL Menaria', 'DT Christian', 'AUK Pathan', 'RV Gomez',\n",
       "        'JEC Franklin', 'AC Thomas', 'WD Parnell', 'M Manhas',\n",
       "        'NJ Rimmington', 'RN ten Doeschate', 'S Nadeem', 'BA Bhatt',\n",
       "        'JJ van der Wath', 'S Aravind', 'R Ninan', 'Shakib Al Hasan',\n",
       "        'PC Valthaty', 'S Dhawan', 'J Syed Mohammad', 'VR Aaron',\n",
       "        'NL McCullum', 'JE Taylor', 'KMDN Kulasekara', 'P Parameswaran',\n",
       "        'I Malhotra', 'B Chipli', 'B Kumar', 'AA Kazi', 'Anand Rajan',\n",
       "        'P Prasanth', 'Y Gnaneswara Rao', 'AA Chavan', 'S Rana',\n",
       "        'JP Faulkner', 'SS Mundhe', 'RW Price', 'GJ Maxwell', 'M de Lange',\n",
       "        'MN Samuels', 'KK Cooper', 'DAJ Bracewell', 'HV Patel',\n",
       "        'Ankit Sharma', 'DJ Harris', 'TP Sudhindra', 'F du Plessis',\n",
       "        'SP Narine', 'GB Hogg', 'RR Bhatkal', 'P Awana', 'V Pratap Singh',\n",
       "        'CJ McKay', 'AD Russell', 'A Ashish Reddy', 'Azhar Mahmood',\n",
       "        'A Chandila', 'P Negi', 'LJ Wright', 'RJ Peterson', 'R Shukla',\n",
       "        'MJ Clarke', 'BW Hilfenhaus', 'SPD Smith', 'K Upadhyay',\n",
       "        'Sunny Gupta', 'MG Johnson', 'JJ Bumrah', 'S Badree', 'AS Rajpoot',\n",
       "        'B Laughlin', 'GH Vihari', 'Mohammed Shami', 'BMAJ Mendis',\n",
       "        'CH Morris', 'S Kaul', 'R Dhawan', 'MM Sharma', 'R Rampaul',\n",
       "        'KV Sharma', 'SMSM Senanayake', 'JO Holder', 'IC Pandey',\n",
       "        'Sandeep Sharma', 'YS Chahal', 'DJG Sammy', 'KW Richardson',\n",
       "        'P Suyal', 'PV Tambe', 'BJ Rohrer', 'Parvez Rasool', 'MG Neser',\n",
       "        'NM Coulter-Nile', 'AC Gilchrist', 'CJ Anderson', 'MA Starc',\n",
       "        'JDS Neesham', 'AR Patel', 'M Vijay', 'R Tewatia', 'SA Yadav',\n",
       "        'Shivam Sharma', 'Imran Tahir', 'V Shankar', 'LMP Simmons',\n",
       "        'BCJ Cutting', 'K Santokie', 'S Gopal', 'BE Hendricks',\n",
       "        'PJ Cummins', 'JW Hastings', 'Karanveer Singh', 'DJ Muthuswami',\n",
       "        'TA Boult', 'SA Abbott', 'KC Cariappa', 'DJ Hooda', 'J Suchith',\n",
       "        'RG More', 'D Wiese', 'MJ McClenaghan', 'HH Pandya', 'SN Thakur',\n",
       "        'GS Sandhu', 'Gurkeerat Singh', 'J Yadav', 'BB Sran', 'M Ashwin',\n",
       "        'C Munro', 'CR Brathwaite', 'MP Stoinis', 'P Sahu',\n",
       "        'Mustafizur Rahman', 'AF Milne', 'Kuldeep Yadav', 'KH Pandya',\n",
       "        'KJ Abbott', 'T Shamsi', 'S Kaushik', 'SM Boland', 'Swapnil Singh',\n",
       "        'CJ Jordan', 'A Zampa', 'Sachin Baby', 'N Rana', 'DL Chahar',\n",
       "        'KS Williamson', 'TS Mills', 'A Choudhary', 'TM Head',\n",
       "        'Rashid Khan', 'BA Stokes', 'CR Woakes', 'T Natarajan',\n",
       "        'RD Chahar', 'B Stanlake', 'Tejas Baroka', 'Basil Thampi',\n",
       "        'C de Grandhomme', 'AJ Tye', 'LH Ferguson', 'Mohammad Nabi',\n",
       "        'Mohammed Siraj', 'K Rabada', 'Washington Sundar', 'SS Agarwal',\n",
       "        'NB Singh', 'RA Tripathi', 'Ankit Soni', 'MJ Henry', 'Avesh Khan',\n",
       "        'MA Wood', 'M Markande', 'Mujeeb Ur Rahman', 'K Khejroliya',\n",
       "        'K Gowtham', 'DJM Short', 'TK Curran', 'A Dananjaya',\n",
       "        'Shivam Mavi', 'JC Archer', 'LE Plunkett', 'IS Sodhi', 'MK Lomror',\n",
       "        'L Ngidi', 'KM Asif', 'DJ Willey', 'M Prasidh Krishna', 'MM Ali',\n",
       "        'JPR Scantlebury-Searles', 'S Lamichhane', 'CJ Dala', 'KK Ahmed',\n",
       "        'Navdeep Saini', 'S Dube', 'Rasikh Salam', 'KMA Paul', 'SM Curran',\n",
       "        'CV Varun', 'GC Viljoen', 'Mandeep Singh', 'P Ray Barman',\n",
       "        'MJ Santner', 'JP Behrendorff', 'SC Kuggeleijn', 'AS Joseph',\n",
       "        'HF Gurney', 'S Midhun', 'R Parag', 'LS Livingstone', 'SN Khan',\n",
       "        'Abhishek Sharma', 'Arshdeep Singh', 'SE Rutherford',\n",
       "        'Harpreet Brar', 'Y Prithvi Raj', 'O Thomas', 'AS Roy',\n",
       "        'S Sandeep Warrier', 'JL Pattinson', 'SS Cottrell', 'Ravi Bishnoi',\n",
       "        'A Nortje', 'I Udana', 'TU Deshpande', 'KL Nagarkoti',\n",
       "        'Kartik Tyagi', 'DR Sams', 'Shahbaz Ahmed', 'Abdul Samad',\n",
       "        'JR Hazlewood', 'DA Warner', 'CJ Green', 'P Dubey', 'Monu Kumar',\n",
       "        'KA Jamieson', 'M Jansen', 'C Sakariya', 'JA Richardson',\n",
       "        'RP Meredith', 'LI Meriwala', 'Lalit Yadav', 'Jalaj S Saxena',\n",
       "        'FA Allen', 'PWH de Silva', 'Umran Malik', 'Akash Singh',\n",
       "        'GD Phillips', 'AK Markram', 'GHS Garton', 'VR Iyer', 'K Yadav',\n",
       "        'NT Ellis', 'RV Patel', 'IC Porel', 'AU Rashid', 'OF Smith',\n",
       "        'Akash Deep', 'PVD Chameera', 'Mohsin Khan', 'R Shepherd',\n",
       "        'Mukesh Choudhary', 'D Pretorius', 'VG Arora', 'YBK Jaiswal',\n",
       "        'Tilak Varma', 'DG Nalkande', 'M Theekshana', 'D Brevis',\n",
       "        'R Powell', 'KR Sen', 'Yash Dayal', 'Shashank Singh',\n",
       "        'Aman Hakim Khan', 'OC McCoy', 'HR Shokeen', 'A Badoni',\n",
       "        'DJ Mitchell', 'Harshit Rana', 'SS Iyer', 'K Kartikeya',\n",
       "        'Simarjeet Singh', 'Fazalhaq Farooqi', 'R Sai Kishore',\n",
       "        'Ramandeep Singh', 'PH Solanki', 'M Pathirana', 'R Sanjay Yadav',\n",
       "        'J Little', 'RS Hangargekar', 'Sikandar Raza', 'Mukesh Kumar',\n",
       "        'KR Mayers', 'NA Saini', 'RJW Topley', 'MG Bracewell',\n",
       "        'Arshad Khan', 'C Green', 'Yash Thakur', 'Suyash Sharma',\n",
       "        'SSB Magala', 'Mohit Rathee', 'MW Short', 'Vijaykumar Vyshak',\n",
       "        'Yudhvir Singh', 'Arjun Tendulkar', 'D Jansen', 'Noor Ahmad',\n",
       "        'Naveen-ul-Haq', 'Mayank Dagar', 'Gurnoor Brar', 'AJ Hosein',\n",
       "        'Akash Madhwal', 'R Goyal', 'T Stubbs', 'Vivrant Sharma',\n",
       "        'JE Root', 'Nithish Kumar Reddy', 'H Sharma', 'Sumit Kumar',\n",
       "        'N Burger', 'L Wood', 'SZ Mulani', 'Naman Dhir', 'G Coetzee',\n",
       "        'Azmatullah Omarzai', 'SH Johnson', 'KT Maphaka', 'M Siddharth',\n",
       "        'MP Yadav', 'R Ravindra', 'KA Maharaj', 'WG Jacks', 'S Joseph',\n",
       "        'Arshad Khan (2)', 'M Shahrukh Khan', 'N Thushara', 'LB Williams',\n",
       "        'RJ Gleeson', 'MJ Suthar', 'A Kamboj', 'V Viyaskanth',\n",
       "        'V Kaverappa', 'Gulbadin Naib', 'N Wadhera', 'Atharva Taide'],\n",
       "       dtype=object)]"
      ]
     },
     "execution_count": 76,
     "metadata": {},
     "output_type": "execute_result"
    }
   ],
   "source": [
    "bowl = [df['bowler'].unique()]\n",
    "bowl"
   ]
  },
  {
   "cell_type": "code",
   "execution_count": 85,
   "metadata": {},
   "outputs": [],
   "source": [
    "def run_batter_bowler(bat,bowl):\n",
    "\n",
    "    batter = df['batter'] == bat \n",
    "    bowler = df['bowler'] == bowl\n",
    "\n",
    "    runs = batter & bowler\n",
    "    runss = df[runs]\n",
    "    print(bat ,\" to \",bowl,\"  \", runss['total_runs'].sum())"
   ]
  },
  {
   "cell_type": "code",
   "execution_count": 86,
   "metadata": {},
   "outputs": [
    {
     "name": "stdout",
     "output_type": "stream",
     "text": [
      "V Kohli  to  RA Jadeja    166\n"
     ]
    }
   ],
   "source": [
    "run_batter_bowler('V Kohli','RA Jadeja')"
   ]
  },
  {
   "cell_type": "code",
   "execution_count": 93,
   "metadata": {},
   "outputs": [],
   "source": [
    "def run_by_value(bat,runs):\n",
    "    batter = df['batter'] == bat \n",
    "    bowler = df['total_runs'] == runs\n",
    "    runs = batter & bowler\n",
    "    runss = df[runs]\n",
    "    print(runss['total_runs'].count())  "
   ]
  },
  {
   "cell_type": "code",
   "execution_count": 96,
   "metadata": {},
   "outputs": [
    {
     "name": "stdout",
     "output_type": "stream",
     "text": [
      "1\n"
     ]
    }
   ],
   "source": [
    "run_by_value('V Kohli',7)"
   ]
  },
  {
   "cell_type": "code",
   "execution_count": 98,
   "metadata": {},
   "outputs": [],
   "source": [
    "def run_by_extra(bat,runs):\n",
    "    batter = df['batter'] == bat \n",
    "    bowler = df['extra_runs'] == runs\n",
    "    runs = batter & bowler\n",
    "    runss = df[runs]\n",
    "    print(runss['total_runs'].count())  "
   ]
  },
  {
   "cell_type": "code",
   "execution_count": 101,
   "metadata": {},
   "outputs": [
    {
     "name": "stdout",
     "output_type": "stream",
     "text": [
      "0\n"
     ]
    }
   ],
   "source": [
    "run_by_extra('V Kohli','wides')"
   ]
  },
  {
   "cell_type": "code",
   "execution_count": 115,
   "metadata": {},
   "outputs": [
    {
     "data": {
      "text/plain": [
       "array(['legbyes', nan, 'wides', 'byes', 'noballs', 'penalty'],\n",
       "      dtype=object)"
      ]
     },
     "execution_count": 115,
     "metadata": {},
     "output_type": "execute_result"
    }
   ],
   "source": [
    "df['extras_type'].unique()"
   ]
  },
  {
   "cell_type": "code",
   "execution_count": 118,
   "metadata": {},
   "outputs": [
    {
     "data": {
      "text/plain": [
       "total_runs\n",
       "1    4\n",
       "4    3\n",
       "2    1\n",
       "3    1\n",
       "Name: count, dtype: int64"
      ]
     },
     "execution_count": 118,
     "metadata": {},
     "output_type": "execute_result"
    }
   ],
   "source": [
    "batter = df['batter'] == 'MS Dhoni' \n",
    "bowler = df['extras_type'] == 'byes'\n",
    "runsss = df[batter & bowler]\n",
    "runsss['total_runs'].value_counts()"
   ]
  },
  {
   "cell_type": "code",
   "execution_count": 131,
   "metadata": {},
   "outputs": [
    {
     "data": {
      "text/plain": [
       "batter\n",
       "CH Gayle          5\n",
       "AB de Villiers    3\n",
       "DA Warner         3\n",
       "MS Dhoni          3\n",
       "RG Sharma         3\n",
       "                 ..\n",
       "VR Iyer           1\n",
       "VVS Laxman        1\n",
       "WG Jacks          1\n",
       "WPUJC Vaas        1\n",
       "YBK Jaiswal       1\n",
       "Name: batsman_runs, Length: 68, dtype: int64"
      ]
     },
     "execution_count": 131,
     "metadata": {},
     "output_type": "execute_result"
    }
   ],
   "source": [
    "runs = df[df['total_runs'] == 7]\n",
    "runs.groupby('batter')['batsman_runs'].count().sort_values(ascending=False)"
   ]
  },
  {
   "cell_type": "code",
   "execution_count": 132,
   "metadata": {},
   "outputs": [
    {
     "data": {
      "text/plain": [
       "np.int64(260920)"
      ]
     },
     "execution_count": 132,
     "metadata": {},
     "output_type": "execute_result"
    }
   ],
   "source": [
    "df['is_wicket'].count()"
   ]
  },
  {
   "cell_type": "code",
   "execution_count": 137,
   "metadata": {},
   "outputs": [
    {
     "data": {
      "text/plain": [
       "dismissal_kind\n",
       "caught               955\n",
       "bowled               229\n",
       "run out              119\n",
       "lbw                   94\n",
       "caught and bowled     44\n",
       "stumped               37\n",
       "hit wicket             2\n",
       "retired hurt           1\n",
       "Name: count, dtype: int64"
      ]
     },
     "execution_count": 137,
     "metadata": {},
     "output_type": "execute_result"
    }
   ],
   "source": [
    "teams = df[df['bowling_team'] == 'Chennai Super Kings']\n",
    "teams['dismissal_kind'].value_counts()"
   ]
  },
  {
   "cell_type": "code",
   "execution_count": 143,
   "metadata": {},
   "outputs": [
    {
     "data": {
      "text/plain": [
       "bowling_team\n",
       "Kolkata Knight Riders          107\n",
       "Mumbai Indians                 102\n",
       "Chennai Super Kings             94\n",
       "Royal Challengers Bengaluru     85\n",
       "Punjab Kings                    81\n",
       "Sunrisers Hyderabad             75\n",
       "Delhi Capitals                  75\n",
       "Rajasthan Royals                73\n",
       "Deccan Chargers                 26\n",
       "Gujarat Titans                  22\n",
       "Pune Warriors                   16\n",
       "Rising Pune Supergiant          16\n",
       "Gujarat Lions                   11\n",
       "Lucknow Super Giants             9\n",
       "Kochi Tuskers Kerala             8\n",
       "Name: count, dtype: int64"
      ]
     },
     "execution_count": 143,
     "metadata": {},
     "output_type": "execute_result"
    }
   ],
   "source": [
    "dismiss_kind = df[df['dismissal_kind'] == 'lbw']\n",
    "dismiss_kind['bowling_team'].value_counts()"
   ]
  },
  {
   "cell_type": "code",
   "execution_count": null,
   "metadata": {},
   "outputs": [],
   "source": []
  }
 ],
 "metadata": {
  "kernelspec": {
   "display_name": "myenv",
   "language": "python",
   "name": "python3"
  },
  "language_info": {
   "codemirror_mode": {
    "name": "ipython",
    "version": 3
   },
   "file_extension": ".py",
   "mimetype": "text/x-python",
   "name": "python",
   "nbconvert_exporter": "python",
   "pygments_lexer": "ipython3",
   "version": "3.12.3"
  }
 },
 "nbformat": 4,
 "nbformat_minor": 2
}
